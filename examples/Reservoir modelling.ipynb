{
 "cells": [
  {
   "cell_type": "code",
   "execution_count": 1,
   "metadata": {
    "ExecuteTime": {
     "end_time": "2019-10-02T06:38:22.129674Z",
     "start_time": "2019-10-02T06:38:20.762863Z"
    }
   },
   "outputs": [],
   "source": [
    "%load_ext autoreload\n",
    "%autoreload 2\n",
    "\n",
    "import os\n",
    "import warnings\n",
    "import sys\n",
    "\n",
    "warnings.filterwarnings('ignore')\n",
    "from tensorflow import logging\n",
    "logging.set_verbosity(logging.ERROR)\n",
    "os.environ['TF_CPP_MIN_LOG_LEVEL'] = '3'\n",
    "\n",
    "import numpy as np\n",
    "import tensorflow as tf\n",
    "from tqdm import tqdm_notebook\n",
    "import matplotlib.pyplot as plt"
   ]
  },
  {
   "cell_type": "code",
   "execution_count": 2,
   "metadata": {
    "ExecuteTime": {
     "end_time": "2019-10-02T06:38:23.085824Z",
     "start_time": "2019-10-02T06:38:22.131678Z"
    }
   },
   "outputs": [],
   "source": [
    "sys.path.append('..')\n",
    "from pydens import Solver, NumpySampler, cart_prod\n",
    "\n",
    "from pydens import add_tokens\n",
    "add_tokens()"
   ]
  },
  {
   "cell_type": "markdown",
   "metadata": {},
   "source": [
    "<tr>\n",
    "<td> <img src=\"params_1.png\" alt=\"Drawing\" style=\"width: 500px; height: 550px\"/> </td>\n",
    "<td> <img src=\"params_2.png\" alt=\"Drawing\" style=\"width: 500px; height: 200px\"/> </td>\n",
    "</tr>"
   ]
  },
  {
   "cell_type": "code",
   "execution_count": 3,
   "metadata": {
    "ExecuteTime": {
     "end_time": "2019-10-02T06:38:23.120384Z",
     "start_time": "2019-10-02T06:38:23.087733Z"
    }
   },
   "outputs": [],
   "source": [
    "m = (0.1 + 0.3) / 2\n",
    "g = 9.81\n",
    "\n",
    "k_o = (0.1 + 10) / 2\n",
    "mu_o = (0.5 + 1) / 2\n",
    "b_o = (1.1 + 1.5) / 2\n",
    "rho_o = (750 + 950) / 2\n",
    "coeff_o = k_o / (mu_o*b_o)\n",
    "\n",
    "k_w = (0.1 + 10) / 2\n",
    "mu_w = (0.2 + 12) / 2\n",
    "b_w = (1.0 + 1.02) / 2\n",
    "rho_w = (980 + 1040) / 2\n",
    "coeff_w = k_w / (mu_w*b_w)\n",
    "\n",
    "theta = (0.01 + 0.03) / 2\n",
    "a = (-0.25 - 0.05) / 2\n",
    "c = (-2 - 4) / 2"
   ]
  },
  {
   "cell_type": "markdown",
   "metadata": {},
   "source": [
    "<img src=\"equations.png\" alt=\"Drawing\" style=\"width: 400px; height: 150px\"/>"
   ]
  },
  {
   "cell_type": "code",
   "execution_count": 4,
   "metadata": {
    "ExecuteTime": {
     "end_time": "2019-10-02T06:38:23.161486Z",
     "start_time": "2019-10-02T06:38:23.122898Z"
    }
   },
   "outputs": [],
   "source": [
    "p_ow = lambda s_w: (2*theta / sqrt(k_o/m)) / (a*(1 - s_w)/(1 + c*s_w))"
   ]
  },
  {
   "cell_type": "code",
   "execution_count": 5,
   "metadata": {
    "ExecuteTime": {
     "end_time": "2019-10-02T06:38:23.196407Z",
     "start_time": "2019-10-02T06:38:23.164760Z"
    }
   },
   "outputs": [],
   "source": [
    "eq_1 = lambda s_o, s_w, x, y, z, t: div(coeff_o*D(p_ow(s_w)) - rho_o*g) - (m / b_o)*D(s_o, t)\n",
    "eq_2 = lambda s_o, s_w, x, y, z, t: div(coeff_w*D(p_ow(s_w)) - rho_w*g) - (m / b_w)*D(s_w, t)"
   ]
  },
  {
   "cell_type": "code",
   "execution_count": 6,
   "metadata": {
    "ExecuteTime": {
     "end_time": "2019-10-02T06:38:23.232421Z",
     "start_time": "2019-10-02T06:38:23.201811Z"
    }
   },
   "outputs": [],
   "source": [
    "pde = {'n_dims': 4, 'n_funs': 2, 'n_eqns': 2,\n",
    "       'form': [eq_1,\n",
    "                eq_2],\n",
    "       'initial_condition': [[0.7],\n",
    "                             [0.3]],\n",
    "       'time_multiplier': 'sigmoid'}\n",
    "\n",
    "# Put it all together in model-config\n",
    "config = {'pde': pde}  \n",
    "\n",
    "# Uniform sampling scheme\n",
    "s = NumpySampler('u', dim=4)"
   ]
  },
  {
   "cell_type": "code",
   "execution_count": 7,
   "metadata": {
    "ExecuteTime": {
     "end_time": "2019-10-02T06:39:37.353921Z",
     "start_time": "2019-10-02T06:38:23.234015Z"
    }
   },
   "outputs": [
    {
     "data": {
      "application/vnd.jupyter.widget-view+json": {
       "model_id": "ff593d290d1f49d393a262a90b49b83d",
       "version_major": 2,
       "version_minor": 0
      },
      "text/plain": [
       "HBox(children=(IntProgress(value=0, max=300), HTML(value='')))"
      ]
     },
     "metadata": {},
     "output_type": "display_data"
    },
    {
     "name": "stdout",
     "output_type": "stream",
     "text": [
      "\n"
     ]
    }
   ],
   "source": [
    "# train the network on batches of 100 points\n",
    "dg = Solver(config)\n",
    "dg.fit(batch_size=50, sampler=s, n_iters=300, bar='notebook')"
   ]
  },
  {
   "cell_type": "code",
   "execution_count": 8,
   "metadata": {
    "ExecuteTime": {
     "end_time": "2019-10-02T06:39:37.688032Z",
     "start_time": "2019-10-02T06:39:37.356569Z"
    }
   },
   "outputs": [
    {
     "data": {
      "image/png": "[encoded data removed]",
      "text/plain": [
       "<Figure size 432x288 with 1 Axes>"
      ]
     },
     "metadata": {
      "needs_background": "light"
     },
     "output_type": "display_data"
    }
   ],
   "source": [
    "# Plot loss\n",
    "plt.plot(dg.loss[:])\n",
    "plt.xlabel('iteration number', fontdict={'fontsize': 15})\n",
    "plt.ylabel('Loss', fontdict={'fontsize': 15})\n",
    "plt.show()"
   ]
  },
  {
   "cell_type": "code",
   "execution_count": 9,
   "metadata": {
    "ExecuteTime": {
     "end_time": "2019-10-02T06:39:38.370099Z",
     "start_time": "2019-10-02T06:39:37.689678Z"
    }
   },
   "outputs": [
    {
     "data": {
      "image/png": "[encoded data removed]",
      "text/plain": [
       "<Figure size 864x432 with 1 Axes>"
      ]
     },
     "metadata": {
      "needs_background": "light"
     },
     "output_type": "display_data"
    }
   ],
   "source": [
    "# Plot true solutions and their approximations\n",
    "n_el = 100\n",
    "fig, ax = plt.subplots(figsize=(12, 6))\n",
    "pts_ = np.linspace(0, 1, n_el).reshape((n_el, 1))\n",
    "pts = np.asarray([[0.5, 0.5, point, 0.1] for point in pts_])\n",
    "\n",
    "approxs_1 = dg.solve(pts)[:, 0]\n",
    "approxs_2 = dg.solve(pts)[:, 1]\n",
    "\n",
    "# plt.plot(pts, true_sin, 'g--', linewidth=3, label='true sin')\n",
    "plt.plot(pts_, approxs_1.reshape(n_el, ), 'y', label='1 approximation')\n",
    "# plt.plot(pts, true_cos, 'b--',  linewidth=3, label='true cos')\n",
    "plt.plot(pts_, approxs_2.reshape(n_el, ), 'r', label='2 approximation')\n",
    "\n",
    "plt.legend(loc='upper right', shadow=True, ncol=2)\n",
    "fig.show()"
   ]
  }
 ],
 "metadata": {
  "kernelspec": {
   "display_name": "Python 3",
   "language": "python",
   "name": "python3"
  },
  "language_info": {
   "codemirror_mode": {
    "name": "ipython",
    "version": 3
   },
   "file_extension": ".py",
   "mimetype": "text/x-python",
   "name": "python",
   "nbconvert_exporter": "python",
   "pygments_lexer": "ipython3",
   "version": "3.7.1"
  },
  "varInspector": {
   "cols": {
    "lenName": 16,
    "lenType": 16,
    "lenVar": 40
   },
   "kernels_config": {
    "python": {
     "delete_cmd_postfix": "",
     "delete_cmd_prefix": "del ",
     "library": "var_list.py",
     "varRefreshCmd": "print(var_dic_list())"
    },
    "r": {
     "delete_cmd_postfix": ") ",
     "delete_cmd_prefix": "rm(",
     "library": "var_list.r",
     "varRefreshCmd": "cat(var_dic_list()) "
    }
   },
   "types_to_exclude": [
    "module",
    "function",
    "builtin_function_or_method",
    "instance",
    "_Feature"
   ],
   "window_display": false
  }
 },
 "nbformat": 4,
 "nbformat_minor": 2
}
