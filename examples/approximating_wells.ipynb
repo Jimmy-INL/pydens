{
 "cells": [
  {
   "cell_type": "code",
   "execution_count": 1,
   "metadata": {},
   "outputs": [],
   "source": [
    "import pandas as pd\n",
    "from sklearn import preprocessing\n",
    "from scipy.interpolate import RectBivariateSpline, griddata\n",
    "from io import StringIO\n",
    "import numpy as np\n",
    "import matplotlib.pyplot as plt\n",
    "from glob import glob\n",
    "from tqdm import tqdm_notebook\n",
    "import re\n",
    "import sys"
   ]
  },
  {
   "cell_type": "markdown",
   "metadata": {},
   "source": [
    "## Вспомогательные функции"
   ]
  },
  {
   "cell_type": "markdown",
   "metadata": {},
   "source": [
    "## Чтение `X`-`Y`-`P`-`t`-таблиц для скважин с заданными номерами"
   ]
  },
  {
   "cell_type": "code",
   "execution_count": 2,
   "metadata": {},
   "outputs": [],
   "source": [
    "def store_file_in_dict(filename='./108000/MapGrid1.txt'):\n",
    "    \"\"\" Store one text-file with well-data in a dict.\n",
    "    \"\"\"\n",
    "    with open(filename, 'r') as file:\n",
    "        text = file.read()\n",
    "    result = dict()\n",
    "    chunks = text.split('Frac_num')\n",
    "    for chunk in chunks[1:]:\n",
    "        frac_num = int(chunk.splitlines()[0].split('=')[1])\n",
    "        lines = chunk.splitlines()[1:]\n",
    "        df = pd.read_csv(StringIO('\\n'.join(lines)), delim_whitespace=True,\n",
    "                         names=['X', 'Y', 'value'])\n",
    "        result.update({frac_num: df})\n",
    "\n",
    "    return result"
   ]
  },
  {
   "cell_type": "code",
   "execution_count": 3,
   "metadata": {},
   "outputs": [],
   "source": [
    "def store_all_files_in_dicts(path_mask='./108000/MapGrid*.txt', sort=True):\n",
    "    \"\"\" Create a list of dicts storing well-logs data for a range of files.\n",
    "    \"\"\"\n",
    "    dicts = []\n",
    "    if sort:\n",
    "        paths = sorted(glob(path_mask),\n",
    "                       key=lambda s: int(re.sub(r'[a-z]|[A-Z]|\\.', '', s.split('/')[-1])))\n",
    "    else:\n",
    "        paths = glob(path_mask)\n",
    "    for path in tqdm_notebook(paths):\n",
    "        dicts.append(store_file_in_dict(filename=path))\n",
    "    return dicts"
   ]
  },
  {
   "cell_type": "code",
   "execution_count": 4,
   "metadata": {},
   "outputs": [],
   "source": [
    "ordered_paths = sorted(glob('./108000/MapGrid*.txt'), key=lambda s:\n",
    "                       int(re.sub(r'[a-z]|[A-Z]|\\.', '', s.split('/')[-1])))"
   ]
  },
  {
   "cell_type": "code",
   "execution_count": 5,
   "metadata": {},
   "outputs": [
    {
     "name": "stderr",
     "output_type": "stream",
     "text": [
      "/usr/local/lib/python3.6/dist-packages/ipykernel_launcher.py:10: TqdmDeprecationWarning: This function will be removed in tqdm==5.0.0\n",
      "Please use `tqdm.notebook.tqdm` instead of `tqdm.tqdm_notebook`\n",
      "  # Remove the CWD from sys.path while we load stuff.\n"
     ]
    },
    {
     "data": {
      "application/vnd.jupyter.widget-view+json": {
       "model_id": "d51a8e0a5fa2484ca610d7bc0896c90b",
       "version_major": 2,
       "version_minor": 0
      },
      "text/plain": [
       "HBox(children=(FloatProgress(value=0.0, max=20.0), HTML(value='')))"
      ]
     },
     "metadata": {},
     "output_type": "display_data"
    },
    {
     "name": "stdout",
     "output_type": "stream",
     "text": [
      "\n"
     ]
    }
   ],
   "source": [
    "ds = store_all_files_in_dicts()"
   ]
  },
  {
   "cell_type": "code",
   "execution_count": 6,
   "metadata": {},
   "outputs": [],
   "source": [
    "def get_sample_series(dicts, frac_num=96001, splits=(None, None)):\n",
    "    \"\"\" Get series of samples from an ordered list of dicts.\n",
    "    \"\"\"\n",
    "    arrays = []\n",
    "    for i, dict_ in enumerate(dicts):\n",
    "        arrays.append(np.concatenate([dict_.get(frac_num).values,\n",
    "                                      i * np.ones(shape=(400, 1))], axis=1))\n",
    "        \n",
    "    if splits[0] is None:\n",
    "        total = np.concatenate(arrays, axis=0)\n",
    "        result = pd.DataFrame(total, columns=['X', 'Y', 'value', 't'])\n",
    "        return result\n",
    "    else:\n",
    "        array_train, array_test = [arrays[t] for t in splits[0]], [arrays[t] for t in splits[1]]\n",
    "        array_train, array_test = (np.concatenate(array_train, axis=0),\n",
    "                                   np.concatenate(array_test, axis=0))\n",
    "        return (pd.DataFrame(array_train, columns=['X', 'Y', 'value', 't']),\n",
    "                pd.DataFrame(array_test, columns=['X', 'Y', 'value', 't']))"
   ]
  },
  {
   "cell_type": "code",
   "execution_count": 7,
   "metadata": {},
   "outputs": [],
   "source": [
    "def get_sample(text=None, filename='./108000/MapGrid1.txt', num=1):\n",
    "    if text is None:\n",
    "        with open(filename, 'r') as file:\n",
    "            text = file.read()\n",
    "    lines = text.split('Frac_num')[num].splitlines()[1:]\n",
    "    result = pd.read_csv(StringIO('\\n'.join(lines)), delim_whitespace=True,\n",
    "                         names=['X', 'Y', 'value'])\n",
    "    return result"
   ]
  },
  {
   "cell_type": "code",
   "execution_count": 8,
   "metadata": {},
   "outputs": [],
   "source": [
    "def get_frac_num(text=None, filename='./108000/MapGrid1.txt', num=1):\n",
    "    if text is None:\n",
    "        with open(filename, 'r') as file:\n",
    "            text = file.read()\n",
    "    return int(text.split('Frac_num')[num].splitlines()[0].split('=')[1])"
   ]
  },
  {
   "cell_type": "markdown",
   "metadata": {},
   "source": [
    "## Функции для интерполяции скважинных таблиц"
   ]
  },
  {
   "cell_type": "code",
   "execution_count": 9,
   "metadata": {},
   "outputs": [],
   "source": [
    "from scipy.interpolate import Rbf, LinearNDInterpolator"
   ]
  },
  {
   "cell_type": "code",
   "execution_count": 10,
   "metadata": {},
   "outputs": [],
   "source": [
    "def normalize_and_get_inverse(df):\n",
    "    normalized = (df - df.min()) / (df.max() - df.min())\n",
    "    inverse = lambda data: data * (df.max() - df.min()) + df.min()\n",
    "    return normalized, inverse"
   ]
  },
  {
   "cell_type": "code",
   "execution_count": 11,
   "metadata": {},
   "outputs": [],
   "source": [
    "def interpolate_and_compute_in_grid(sample, method='linear', grid=None):\n",
    "    if grid is None:\n",
    "        grid_x, grid_y, grid_t = np.mgrid[0:0.01:50j, 0:0.01:50j, 0:1.0:20j]\n",
    "    else:\n",
    "        grid_x, grid_y, grid_t = grid\n",
    "\n",
    "    normalized, inverse = normalize_and_get_inverse(sample)\n",
    "    points = normalized[['X', 'Y', 't']].values\n",
    "    values = normalized[['value']].values.reshape(-1)\n",
    "    grid_result = griddata(points, values, (grid_x, grid_y, grid_t),\n",
    "                           method=method)\n",
    "    return grid_result"
   ]
  },
  {
   "cell_type": "code",
   "execution_count": 197,
   "metadata": {},
   "outputs": [],
   "source": [
    "def dataframe_to_grid_sequence(sample, n_points=20):\n",
    "    dfs = []\n",
    "    times = []\n",
    "    groups = sample.groupby('t')\n",
    "    for k, v in groups:\n",
    "        dfs.append(v[['X', 'Y', 'value']].values.reshape((n_points, n_points, 3)))\n",
    "        times.append(k)\n",
    "    return dfs, times"
   ]
  },
  {
   "cell_type": "code",
   "execution_count": 198,
   "metadata": {},
   "outputs": [],
   "source": [
    "def get_interpolator_and_inverse(sample, method='rbf', **kwargs):\n",
    "    normalized, inverse = normalize_and_get_inverse(sample)\n",
    "    points = normalized[['X', 'Y', 't']].values\n",
    "    values = normalized[['value']].values.reshape(-1)\n",
    "\n",
    "    # make the interpolator of requested type\n",
    "    if method == 'rbf':\n",
    "        interp = Rbf(points[:, 0], points[:, 1], points[:, 2], **kwargs)\n",
    "    elif method == 'linear':\n",
    "        interp = LinearNDInterpolator(points, values)\n",
    "    return interp, inverse"
   ]
  },
  {
   "cell_type": "code",
   "execution_count": 199,
   "metadata": {},
   "outputs": [],
   "source": [
    "from itertools import product"
   ]
  },
  {
   "cell_type": "code",
   "execution_count": 209,
   "metadata": {},
   "outputs": [],
   "source": [
    "def make_grid_df(xlim=(0, 0.01), ylim=(0, 0.01), tlim=(0, 1), n_points=20):\n",
    "    data = product(np.linspace(*xlim, n_points),\n",
    "                   np.linspace(*xlim, n_points),\n",
    "                   np.linspace(*tlim, n_points))\n",
    "    data = list(data)\n",
    "    return pd.DataFrame(data, columns=['X', 'Y', 't'])"
   ]
  },
  {
   "cell_type": "markdown",
   "metadata": {},
   "source": [
    "## Визуальный и численный тест: отложенная по $t$ выборка на скважине с `frac_num` $96001 $"
   ]
  },
  {
   "cell_type": "code",
   "execution_count": 226,
   "metadata": {},
   "outputs": [],
   "source": [
    "train_s, test_s = get_sample_series(ds, splits=(np.arange(0, 20, 2),\n",
    "                                                np.arange(1, 19, 2)))"
   ]
  },
  {
   "cell_type": "code",
   "execution_count": 227,
   "metadata": {},
   "outputs": [],
   "source": [
    "interp, inv = get_interpolator_and_inverse(train_s, method='linear')"
   ]
  },
  {
   "cell_type": "code",
   "execution_count": 228,
   "metadata": {},
   "outputs": [],
   "source": [
    "normalized_test, inv_test = normalize_and_get_inverse(test_s)"
   ]
  },
  {
   "cell_type": "code",
   "execution_count": 229,
   "metadata": {},
   "outputs": [],
   "source": [
    "griddf = make_grid_df()"
   ]
  },
  {
   "cell_type": "code",
   "execution_count": 232,
   "metadata": {},
   "outputs": [],
   "source": [
    "griddf_pred = make_df_with_predictions(griddf, interp)"
   ]
  },
  {
   "cell_type": "code",
   "execution_count": 233,
   "metadata": {},
   "outputs": [],
   "source": [
    "pred_grids, times = dataframe_to_grid_sequence(griddf_pred)"
   ]
  },
  {
   "cell_type": "code",
   "execution_count": 234,
   "metadata": {},
   "outputs": [
    {
     "data": {
      "text/plain": [
       "(20, 20, 3)"
      ]
     },
     "execution_count": 234,
     "metadata": {},
     "output_type": "execute_result"
    }
   ],
   "source": [
    "pred_grids[0].shape"
   ]
  },
  {
   "cell_type": "markdown",
   "metadata": {},
   "source": [
    "* визуально моменты времени вне обучающей выборки выглядят качественно"
   ]
  },
  {
   "cell_type": "code",
   "execution_count": 251,
   "metadata": {},
   "outputs": [
    {
     "data": {
      "image/png": "[encoded data removed]",
      "text/plain": [
       "<Figure size 432x288 with 1 Axes>"
      ]
     },
     "metadata": {
      "needs_background": "light"
     },
     "output_type": "display_data"
    },
    {
     "data": {
      "image/png": "[encoded data removed]",
      "text/plain": [
       "<Figure size 432x288 with 1 Axes>"
      ]
     },
     "metadata": {
      "needs_background": "light"
     },
     "output_type": "display_data"
    },
    {
     "data": {
      "image/png": "[encoded data removed]",
      "text/plain": [
       "<Figure size 432x288 with 1 Axes>"
      ]
     },
     "metadata": {
      "needs_background": "light"
     },
     "output_type": "display_data"
    },
    {
     "data": {
      "image/png": "[encoded data removed]",
      "text/plain": [
       "<Figure size 432x288 with 1 Axes>"
      ]
     },
     "metadata": {
      "needs_background": "light"
     },
     "output_type": "display_data"
    },
    {
     "data": {
      "image/png": "[encoded data removed]",
      "text/plain": [
       "<Figure size 432x288 with 1 Axes>"
      ]
     },
     "metadata": {
      "needs_background": "light"
     },
     "output_type": "display_data"
    }
   ],
   "source": [
    "for i in range(10, len(pred_grids), 2):\n",
    "    plt.imshow(pred_grids[i][..., -1],\n",
    "               extent=(0, 0.01, 0, 0.01))\n",
    "    plt.title(r'$t={}$'.format({times[i]}))\n",
    "    plt.show()"
   ]
  },
  {
   "cell_type": "code",
   "execution_count": 32,
   "metadata": {},
   "outputs": [],
   "source": [
    "vs = interp(normalized_test[['X', 'Y', 't']].values)"
   ]
  },
  {
   "cell_type": "markdown",
   "metadata": {},
   "source": [
    "* средняя абсолютная ошибка на тестовой выборке"
   ]
  },
  {
   "cell_type": "code",
   "execution_count": 253,
   "metadata": {},
   "outputs": [
    {
     "data": {
      "text/plain": [
       "0.0008931845357092848"
      ]
     },
     "execution_count": 253,
     "metadata": {},
     "output_type": "execute_result"
    }
   ],
   "source": [
    "np.mean(np.abs(vs - normalized_test.value.values))"
   ]
  },
  {
   "cell_type": "markdown",
   "metadata": {},
   "source": [
    "* средняя относительная ошибка на тестовой выборке, в % - только по ненулевым значениям"
   ]
  },
  {
   "cell_type": "code",
   "execution_count": 258,
   "metadata": {},
   "outputs": [
    {
     "name": "stderr",
     "output_type": "stream",
     "text": [
      "/usr/local/lib/python3.6/dist-packages/ipykernel_launcher.py:1: RuntimeWarning: invalid value encountered in true_divide\n",
      "  \"\"\"Entry point for launching an IPython kernel.\n"
     ]
    },
    {
     "data": {
      "text/plain": [
       "0.1658227229244647"
      ]
     },
     "execution_count": 258,
     "metadata": {},
     "output_type": "execute_result"
    }
   ],
   "source": [
    "np.nanmean(np.abs(vs - normalized_test.value.values) / normalized_test.value.values) * 100"
   ]
  },
  {
   "cell_type": "markdown",
   "metadata": {},
   "source": [
    "## Тест на данных от Андрея"
   ]
  },
  {
   "cell_type": "code",
   "execution_count": 220,
   "metadata": {},
   "outputs": [],
   "source": [
    "import pandas as pd"
   ]
  },
  {
   "cell_type": "code",
   "execution_count": 221,
   "metadata": {},
   "outputs": [],
   "source": [
    "fields = ('K', 'half_length', 'Skin', 'h', 'por', 'Q_frac', 'Frac_num')"
   ]
  },
  {
   "cell_type": "markdown",
   "metadata": {},
   "source": [
    "* считываем параметры из входной выборки и тестовые параметры"
   ]
  },
  {
   "cell_type": "code",
   "execution_count": 222,
   "metadata": {},
   "outputs": [],
   "source": [
    "params_sample = pd.read_excel('Parameters/parameters_sample.xls', delim_whitespace=True)"
   ]
  },
  {
   "cell_type": "code",
   "execution_count": 223,
   "metadata": {},
   "outputs": [],
   "source": [
    "params_test = pd.read_excel('Parameters/parameters_test.xlsx', delim_whitespace=True)"
   ]
  },
  {
   "cell_type": "code",
   "execution_count": 224,
   "metadata": {},
   "outputs": [
    {
     "data": {
      "text/html": [
       "<div>\n",
       "<style scoped>\n",
       "    .dataframe tbody tr th:only-of-type {\n",
       "        vertical-align: middle;\n",
       "    }\n",
       "\n",
       "    .dataframe tbody tr th {\n",
       "        vertical-align: top;\n",
       "    }\n",
       "\n",
       "    .dataframe thead th {\n",
       "        text-align: right;\n",
       "    }\n",
       "</style>\n",
       "<table border=\"1\" class=\"dataframe\">\n",
       "  <thead>\n",
       "    <tr style=\"text-align: right;\">\n",
       "      <th></th>\n",
       "      <th>K</th>\n",
       "      <th>half_length</th>\n",
       "      <th>Skin</th>\n",
       "      <th>h</th>\n",
       "      <th>por</th>\n",
       "      <th>Q_frac</th>\n",
       "      <th>mu, сП</th>\n",
       "      <th>Сжим, 1/Па</th>\n",
       "      <th>Угол</th>\n",
       "      <th>Unnamed: 9</th>\n",
       "      <th>Размер залежи</th>\n",
       "    </tr>\n",
       "  </thead>\n",
       "  <tbody>\n",
       "    <tr>\n",
       "      <th>0</th>\n",
       "      <td>11.2</td>\n",
       "      <td>223.11</td>\n",
       "      <td>0</td>\n",
       "      <td>10.8</td>\n",
       "      <td>0.1</td>\n",
       "      <td>66.67</td>\n",
       "      <td>1</td>\n",
       "      <td>4.351130e-10</td>\n",
       "      <td>0</td>\n",
       "      <td>NaN</td>\n",
       "      <td>100км на 100км</td>\n",
       "    </tr>\n",
       "  </tbody>\n",
       "</table>\n",
       "</div>"
      ],
      "text/plain": [
       "      K  half_length  Skin     h  por  Q_frac  mu, сП    Сжим, 1/Па  Угол  \\\n",
       "0  11.2       223.11     0  10.8  0.1   66.67       1  4.351130e-10     0   \n",
       "\n",
       "   Unnamed: 9   Размер залежи  \n",
       "0         NaN  100км на 100км  "
      ]
     },
     "execution_count": 224,
     "metadata": {},
     "output_type": "execute_result"
    }
   ],
   "source": [
    "params_test"
   ]
  },
  {
   "cell_type": "markdown",
   "metadata": {},
   "source": [
    "* в параметрах из входного датасета не содержится значения `Q_frac` $66.67$"
   ]
  },
  {
   "cell_type": "code",
   "execution_count": 225,
   "metadata": {},
   "outputs": [
    {
     "data": {
      "text/plain": [
       "array([-400.        , -322.22222222, -244.44444444, -166.66666667,\n",
       "        -88.88888889,  -11.11111111])"
      ]
     },
     "execution_count": 225,
     "metadata": {},
     "output_type": "execute_result"
    }
   ],
   "source": [
    "params_sample.Q_frac.unique()"
   ]
  }
 ],
 "metadata": {
  "kernelspec": {
   "display_name": "Python 3",
   "language": "python",
   "name": "python3"
  },
  "language_info": {
   "codemirror_mode": {
    "name": "ipython",
    "version": 3
   },
   "file_extension": ".py",
   "mimetype": "text/x-python",
   "name": "python",
   "nbconvert_exporter": "python",
   "pygments_lexer": "ipython3",
   "version": "3.6.9"
  }
 },
 "nbformat": 4,
 "nbformat_minor": 4
}
