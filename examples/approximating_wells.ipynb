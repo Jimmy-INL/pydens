{
 "cells": [
  {
   "cell_type": "code",
   "execution_count": 1,
   "metadata": {},
   "outputs": [],
   "source": [
    "import pandas as pd\n",
    "from sklearn import preprocessing\n",
    "from scipy.interpolate import RectBivariateSpline, griddata\n",
    "from io import StringIO\n",
    "import numpy as np\n",
    "import matplotlib.pyplot as plt"
   ]
  },
  {
   "cell_type": "code",
   "execution_count": 2,
   "metadata": {},
   "outputs": [],
   "source": [
    "def get_sample(filename='./108000/MapGrid1.txt', num=1):\n",
    "    with open(filename, 'r') as file:\n",
    "        text = file.read()\n",
    "    lines = text.split('Frac_num')[num].splitlines()[1:]\n",
    "    result = pd.read_csv(StringIO('\\n'.join(lines)), delim_whitespace=True,\n",
    "                         names=['X', 'Y', 'value'])\n",
    "    return result"
   ]
  },
  {
   "cell_type": "code",
   "execution_count": 3,
   "metadata": {},
   "outputs": [],
   "source": [
    "def normalize_and_get_inverse(df):\n",
    "    normalized = (df - df.min()) / (df.max() - df.min())\n",
    "    inverse = lambda data: data * (df.max() - df.min()) + df.min()\n",
    "    return normalized, inverse"
   ]
  },
  {
   "cell_type": "code",
   "execution_count": 14,
   "metadata": {},
   "outputs": [],
   "source": [
    "def interpolate_and_compute_in_grid(sample, method='linear', grid=None):\n",
    "    if grid is None:\n",
    "        grid_x, grid_y = np.mgrid[0:0.01:100j, 0:0.01:100j]\n",
    "    else:\n",
    "        grid_x, grid_y = grid\n",
    "\n",
    "    normalized, inverse = normalize_and_get_inverse(sample)\n",
    "    points = normalized[['X', 'Y']].values\n",
    "    values = normalized[['value']].values.reshape(-1)\n",
    "    grid_result = griddata(points, values, (grid_x, grid_y), method=method)\n",
    "    return grid_result"
   ]
  },
  {
   "cell_type": "code",
   "execution_count": 15,
   "metadata": {},
   "outputs": [],
   "source": [
    "s1 = get_sample(num=4)"
   ]
  },
  {
   "cell_type": "code",
   "execution_count": 16,
   "metadata": {},
   "outputs": [],
   "source": [
    "grid = interpolate_and_compute_in_grid(s1)"
   ]
  },
  {
   "cell_type": "code",
   "execution_count": 17,
   "metadata": {},
   "outputs": [
    {
     "data": {
      "text/plain": [
       "<matplotlib.image.AxesImage at 0x7fc7c932c470>"
      ]
     },
     "execution_count": 17,
     "metadata": {},
     "output_type": "execute_result"
    },
    {
     "data": {
      "image/png": "[encoded data removed]",
      "text/plain": [
       "<Figure size 432x288 with 1 Axes>"
      ]
     },
     "metadata": {
      "needs_background": "light"
     },
     "output_type": "display_data"
    }
   ],
   "source": [
    "plt.imshow(grid.T, extent=(0, 0.1, 0, 0.1))"
   ]
  },
  {
   "cell_type": "code",
   "execution_count": null,
   "metadata": {},
   "outputs": [],
   "source": []
  },
  {
   "cell_type": "code",
   "execution_count": null,
   "metadata": {},
   "outputs": [],
   "source": []
  }
 ],
 "metadata": {
  "kernelspec": {
   "display_name": "Python 3",
   "language": "python",
   "name": "python3"
  },
  "language_info": {
   "codemirror_mode": {
    "name": "ipython",
    "version": 3
   },
   "file_extension": ".py",
   "mimetype": "text/x-python",
   "name": "python",
   "nbconvert_exporter": "python",
   "pygments_lexer": "ipython3",
   "version": "3.6.9"
  }
 },
 "nbformat": 4,
 "nbformat_minor": 4
}
