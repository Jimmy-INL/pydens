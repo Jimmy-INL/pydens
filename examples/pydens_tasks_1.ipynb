{
 "cells": [
  {
   "cell_type": "markdown",
   "metadata": {},
   "source": [
    "## Problem set 1"
   ]
  },
  {
   "cell_type": "markdown",
   "metadata": {},
   "source": [
    "All tasks are to be done using `PyDEns`. The framework can be easily installed with the following command in the command line:"
   ]
  },
  {
   "cell_type": "markdown",
   "metadata": {},
   "source": [
    "```python\n",
    "pip install pydens\n",
    "```"
   ]
  },
  {
   "cell_type": "markdown",
   "metadata": {},
   "source": [
    "Importantly, `tensorflow`-library for deep leraning requires separate installation!"
   ]
  },
  {
   "cell_type": "code",
   "execution_count": null,
   "metadata": {},
   "outputs": [],
   "source": [
    "import sys\n",
    "sys.path.append('../')\n",
    "import tensorflow as tf\n",
    "import numpy as np\n",
    "from tqdm import tqdm_notebook\n",
    "import matplotlib.pyplot as plt\n",
    "from ipywidgets import interact"
   ]
  },
  {
   "cell_type": "code",
   "execution_count": null,
   "metadata": {},
   "outputs": [],
   "source": [
    "from pydens import add_tokens, Solver, NumpySampler, cart_prod, ConstantSampler\n",
    "from pydens import plot_loss, plot_pair_1d, plot_2d, plot_sections_2d, TFDeepGalerkin"
   ]
  },
  {
   "cell_type": "code",
   "execution_count": null,
   "metadata": {},
   "outputs": [],
   "source": [
    "add_tokens()"
   ]
  },
  {
   "cell_type": "markdown",
   "metadata": {},
   "source": [
    " Ideally, the resultng notebook should be commited, pushed on github-fork of pydens, and made available for [Alexander](https://github.com/akoryagin) and [Sergey](https://github.com/SergeyTsimfer).\n",
    "\n",
    "Supporting materials:\n",
    "- [Main PyDEns-tutorial](https://github.com/analysiscenter/pydens/blob/master/tutorials/PDE_solving.ipynb)\n",
    "- [PyDEns-seminar notebook at STC](https://github.com/analysiscenter/pydens/blob/master/examples/pydens_sem.ipynb)\n",
    "- [Sampler-tutorial](https://github.com/analysiscenter/batchflow/blob/master/examples/tutorials/07_sampler.ipynb)"
   ]
  },
  {
   "cell_type": "markdown",
   "metadata": {},
   "source": [
    "### 1. First-order ordinary differential equation in $\\mathcal{R}$ with simple initial condition\n",
    "$$\n",
    "\\frac{d f}{d t} - f = 0,\\ f(0)=2.\n",
    "$$"
   ]
  },
  {
   "cell_type": "markdown",
   "metadata": {},
   "source": [
    "* Solve the equation with a `PyDENs`-model"
   ]
  },
  {
   "cell_type": "code",
   "execution_count": null,
   "metadata": {},
   "outputs": [],
   "source": []
  },
  {
   "cell_type": "markdown",
   "metadata": {},
   "source": [
    "* Evaluate the solution approximation at points [0.3, 0.5, 0.7]"
   ]
  },
  {
   "cell_type": "code",
   "execution_count": null,
   "metadata": {},
   "outputs": [],
   "source": []
  },
  {
   "cell_type": "markdown",
   "metadata": {},
   "source": [
    "* Plot the solution approximation against the true solution of the equation. Note that it's given by\n",
    "\n",
    "$$\n",
    "f(t) = 2e^{t}.\n",
    "$$"
   ]
  },
  {
   "cell_type": "markdown",
   "metadata": {},
   "source": [
    "### 2. Poisson equation in $\\mathcal{R}^2$ with Dirichlet boundary condition"
   ]
  },
  {
   "cell_type": "markdown",
   "metadata": {},
   "source": [
    "$$\\frac{\\partial^2 f}{\\partial x^2} + \\frac{\\partial^2 f}{\\partial y^2} = \\exp[x + y]\\sin[\\pi(x + y)];\\quad (x, y) \\in [0, 1]^2,\\ f(0, y)=f(x, 0)=f(1, y)=f(x, 1)=1.\n",
    "$$"
   ]
  },
  {
   "cell_type": "markdown",
   "metadata": {},
   "source": [
    "* Solve the equation with a `PyDENs`-model"
   ]
  },
  {
   "cell_type": "code",
   "execution_count": null,
   "metadata": {},
   "outputs": [],
   "source": []
  },
  {
   "cell_type": "markdown",
   "metadata": {},
   "source": [
    "* Plot the heatmap of solution-approximation"
   ]
  },
  {
   "cell_type": "code",
   "execution_count": null,
   "metadata": {},
   "outputs": [],
   "source": []
  },
  {
   "cell_type": "markdown",
   "metadata": {},
   "source": [
    "* The sum of 2nd-order derivatives in the left-hand-side of the equation is called *laplacian*. Add key `track` to the model configuration-dictionary to keep track of the laplacian of solution-approximation. Retrain the model. "
   ]
  },
  {
   "cell_type": "code",
   "execution_count": null,
   "metadata": {},
   "outputs": [],
   "source": []
  },
  {
   "cell_type": "markdown",
   "metadata": {},
   "source": [
    "* Plot the laplacian of solution-approximation. Explain the picture."
   ]
  },
  {
   "cell_type": "code",
   "execution_count": null,
   "metadata": {},
   "outputs": [],
   "source": []
  },
  {
   "cell_type": "markdown",
   "metadata": {},
   "source": [
    "### 3**. Second-order ordinary differential equation in $\\mathcal{R}^2$ "
   ]
  },
  {
   "cell_type": "markdown",
   "metadata": {},
   "source": [
    "$$\n",
    "\\frac{1}{2 \\pi}\\frac{d^2 f}{d t^2} + 2 \\pi f = 0,\\quad f(0) = 2,\\quad f'(0)= 2 \\pi.\n",
    "$$"
   ]
  },
  {
   "cell_type": "markdown",
   "metadata": {},
   "source": [
    "* Make an attempt to solve the equation. Is it working? *Hint*: compare to the true solution given by\n",
    "\n",
    "\n",
    "$$\n",
    "\\sin[2 \\pi t] + 2 \\cos[2 \\pi t]\n",
    "$$"
   ]
  },
  {
   "cell_type": "code",
   "execution_count": null,
   "metadata": {},
   "outputs": [],
   "source": []
  },
  {
   "cell_type": "markdown",
   "metadata": {},
   "source": [
    "* Change architecture to a fully-connected network with two hidden layers and two `tanh`-gential activations. Play with the number of training iterations and batch-size. Try to obtain a working configuration."
   ]
  },
  {
   "cell_type": "code",
   "execution_count": null,
   "metadata": {},
   "outputs": [],
   "source": []
  },
  {
   "cell_type": "markdown",
   "metadata": {},
   "source": [
    "* Change `time_nultiplier` to `polynomial` in the config of the model."
   ]
  },
  {
   "cell_type": "code",
   "execution_count": null,
   "metadata": {},
   "outputs": [],
   "source": []
  },
  {
   "cell_type": "markdown",
   "metadata": {},
   "source": [
    "* Explain why it is so hard to obtain a good solution-approximation. Hint: look at `anzatc`-section in the docstring of the model and write down how the final solution approximation looks like. Doctring of the model can be checked up as follows:"
   ]
  },
  {
   "cell_type": "code",
   "execution_count": null,
   "metadata": {},
   "outputs": [],
   "source": [
    "??TFDeepGalerkin"
   ]
  },
  {
   "cell_type": "code",
   "execution_count": null,
   "metadata": {},
   "outputs": [],
   "source": []
  }
 ],
 "metadata": {
  "kernelspec": {
   "display_name": "Python 3",
   "language": "python",
   "name": "python3"
  },
  "language_info": {
   "codemirror_mode": {
    "name": "ipython",
    "version": 3
   },
   "file_extension": ".py",
   "mimetype": "text/x-python",
   "name": "python",
   "nbconvert_exporter": "python",
   "pygments_lexer": "ipython3",
   "version": "3.6.6+"
  }
 },
 "nbformat": 4,
 "nbformat_minor": 2
}
