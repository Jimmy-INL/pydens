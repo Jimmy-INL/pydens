{
 "cells": [
  {
   "cell_type": "code",
   "execution_count": null,
   "metadata": {
    "ExecuteTime": {
     "end_time": "2019-10-09T14:50:13.038109Z",
     "start_time": "2019-10-09T14:50:11.007758Z"
    }
   },
   "outputs": [],
   "source": [
    "import sys\n",
    "sys.path.append('../')\n",
    "import tensorflow as tf\n",
    "import numpy as np\n",
    "from tqdm import tqdm_notebook\n",
    "import matplotlib.pyplot as plt\n",
    "from ipywidgets import interact"
   ]
  },
  {
   "cell_type": "code",
   "execution_count": null,
   "metadata": {
    "ExecuteTime": {
     "end_time": "2019-10-09T14:50:14.099979Z",
     "start_time": "2019-10-09T14:50:13.040453Z"
    }
   },
   "outputs": [],
   "source": [
    "from pydens import add_tokens, Solver, NumpySampler, cart_prod, ConstantSampler\n",
    "from pydens import plot_loss, plot_pair_1d, plot_2d, plot_sections_2d"
   ]
  },
  {
   "cell_type": "markdown",
   "metadata": {},
   "source": [
    "## Introductory examples"
   ]
  },
  {
   "cell_type": "markdown",
   "metadata": {},
   "source": [
    "To begin with, let us go through all of the steps of configuring a `PyDEns`-model using a simple example."
   ]
  },
  {
   "cell_type": "markdown",
   "metadata": {},
   "source": [
    "### The easiest example possible: first-order ordinary differential equation in $\\mathcal{R}$\n",
    "$$\n",
    "\\frac{d u}{d t}= 2\\pi\\cos[2 \\pi t]; \\quad t \\in [0, 1],\\ f(0)=1.\n",
    "$$"
   ]
  },
  {
   "cell_type": "markdown",
   "metadata": {},
   "source": [
    "The very first thing to do is to add a set of mathematical tokens to the current namespace:"
   ]
  },
  {
   "cell_type": "code",
   "execution_count": null,
   "metadata": {
    "ExecuteTime": {
     "end_time": "2019-10-09T14:50:14.108566Z",
     "start_time": "2019-10-09T14:50:14.103924Z"
    }
   },
   "outputs": [],
   "source": [
    "add_tokens()"
   ]
  },
  {
   "cell_type": "markdown",
   "metadata": {},
   "source": [
    "Configuring `PyDENs`-model comes down to several step:\n",
    "\n",
    "* setting up dimensionality of the problem:"
   ]
  },
  {
   "cell_type": "code",
   "execution_count": null,
   "metadata": {
    "ExecuteTime": {
     "end_time": "2019-10-09T14:50:14.121816Z",
     "start_time": "2019-10-09T14:50:14.112413Z"
    }
   },
   "outputs": [],
   "source": [
    "n_dims = 1"
   ]
  },
  {
   "cell_type": "markdown",
   "metadata": {},
   "source": [
    "* describing differential form representing the equation using created tokens"
   ]
  },
  {
   "cell_type": "code",
   "execution_count": null,
   "metadata": {
    "ExecuteTime": {
     "end_time": "2019-10-09T14:50:14.140059Z",
     "start_time": "2019-10-09T14:50:14.129954Z"
    }
   },
   "outputs": [],
   "source": [
    "form = lambda u, t: D(u, t) - 2 * np.pi * cos(2 * np.pi * t)"
   ]
  },
  {
   "cell_type": "markdown",
   "metadata": {},
   "source": [
    "* preparing initial/boundary conditions:"
   ]
  },
  {
   "cell_type": "code",
   "execution_count": null,
   "metadata": {
    "ExecuteTime": {
     "end_time": "2019-10-09T14:50:14.157497Z",
     "start_time": "2019-10-09T14:50:14.147132Z"
    }
   },
   "outputs": [],
   "source": [
    "initial_condition = 1 # alternatively, can be callable"
   ]
  },
  {
   "cell_type": "markdown",
   "metadata": {},
   "source": [
    "* choosing point-sampling scheme"
   ]
  },
  {
   "cell_type": "code",
   "execution_count": null,
   "metadata": {
    "ExecuteTime": {
     "end_time": "2019-10-09T14:50:14.168983Z",
     "start_time": "2019-10-09T14:50:14.164388Z"
    }
   },
   "outputs": [],
   "source": [
    "s = NumpySampler('uniform')"
   ]
  },
  {
   "cell_type": "markdown",
   "metadata": {},
   "source": [
    "in short, each `Sampler` is an entity that samples points: "
   ]
  },
  {
   "cell_type": "code",
   "execution_count": null,
   "metadata": {
    "ExecuteTime": {
     "end_time": "2019-10-09T14:50:14.189252Z",
     "start_time": "2019-10-09T14:50:14.175954Z"
    }
   },
   "outputs": [],
   "source": [
    "s.sample(3)"
   ]
  },
  {
   "cell_type": "markdown",
   "metadata": {},
   "source": [
    "we can now assemble a `configuration-dict` for the pde-problem"
   ]
  },
  {
   "cell_type": "code",
   "execution_count": null,
   "metadata": {
    "ExecuteTime": {
     "end_time": "2019-10-09T14:50:14.197627Z",
     "start_time": "2019-10-09T14:50:14.193335Z"
    }
   },
   "outputs": [],
   "source": [
    "pde = {'n_dims': n_dims,\n",
    "       'form': form,\n",
    "       'initial_condition': initial_condition}"
   ]
  },
  {
   "cell_type": "markdown",
   "metadata": {},
   "source": [
    "* **[optional]** set up a neural network architecture using `layout`-string, that specifies the sequence of layers in a network using letters, like `f`(stands for fully connected) or `a` (stands for activation)."
   ]
  },
  {
   "cell_type": "code",
   "execution_count": null,
   "metadata": {
    "ExecuteTime": {
     "end_time": "2019-10-09T14:50:14.211724Z",
     "start_time": "2019-10-09T14:50:14.202064Z"
    }
   },
   "outputs": [],
   "source": [
    "body = {'layout': 'fa fa f',\n",
    "        'units': [10, 25, 1],\n",
    "        'activation': [tf.nn.tanh, tf.nn.tanh]}"
   ]
  },
  {
   "cell_type": "markdown",
   "metadata": {},
   "source": [
    "we are all set to assemble the configuration-dict for the whole model"
   ]
  },
  {
   "cell_type": "code",
   "execution_count": null,
   "metadata": {
    "ExecuteTime": {
     "end_time": "2019-10-09T14:50:14.221848Z",
     "start_time": "2019-10-09T14:50:14.214926Z"
    }
   },
   "outputs": [],
   "source": [
    "config = {'body': body,\n",
    "          'pde': pde}"
   ]
  },
  {
   "cell_type": "markdown",
   "metadata": {},
   "source": [
    "..and initialize the model-instance"
   ]
  },
  {
   "cell_type": "code",
   "execution_count": null,
   "metadata": {
    "ExecuteTime": {
     "end_time": "2019-10-09T14:50:16.259845Z",
     "start_time": "2019-10-09T14:50:14.226292Z"
    }
   },
   "outputs": [],
   "source": [
    "model = Solver(config)"
   ]
  },
  {
   "cell_type": "markdown",
   "metadata": {},
   "source": [
    "it is not ready yet: we still have to train the model"
   ]
  },
  {
   "cell_type": "code",
   "execution_count": null,
   "metadata": {
    "ExecuteTime": {
     "end_time": "2019-10-09T14:50:20.348406Z",
     "start_time": "2019-10-09T14:50:16.262166Z"
    },
    "scrolled": true
   },
   "outputs": [],
   "source": [
    "model.fit(batch_size=150, sampler=s, n_iters=2000, bar='notebook')"
   ]
  },
  {
   "cell_type": "markdown",
   "metadata": {},
   "source": [
    "check out the loss"
   ]
  },
  {
   "cell_type": "code",
   "execution_count": null,
   "metadata": {
    "ExecuteTime": {
     "end_time": "2019-10-09T14:50:20.571720Z",
     "start_time": "2019-10-09T14:50:20.350508Z"
    }
   },
   "outputs": [],
   "source": [
    "plot_loss(model.loss, color='cornflowerblue')"
   ]
  },
  {
   "cell_type": "markdown",
   "metadata": {},
   "source": [
    "and the solution along with its network approximation"
   ]
  },
  {
   "cell_type": "code",
   "execution_count": null,
   "metadata": {
    "ExecuteTime": {
     "end_time": "2019-10-09T14:53:36.304921Z",
     "start_time": "2019-10-09T14:53:35.951937Z"
    }
   },
   "outputs": [],
   "source": [
    "plot_pair_1d(model, lambda t: np.sin(2*np.pi*t)+1, confidence=0.15, alpha=0.2)"
   ]
  },
  {
   "cell_type": "markdown",
   "metadata": {},
   "source": [
    "### A more interesting one: poisson equation in $\\mathcal{R}^2$ with Dirichlet boundary condition"
   ]
  },
  {
   "cell_type": "markdown",
   "metadata": {},
   "source": [
    "$$\\frac{\\partial^2 f}{\\partial x^2} + \\frac{\\partial^2 f}{\\partial y^2} = 5\\sin[\\pi(x + y)];\\quad (x, y) \\in [0, 1]^2,\\ f(0, y)=f(x, 0)=f(1, y)=f(x, 1)=1.\n",
    "$$"
   ]
  },
  {
   "cell_type": "markdown",
   "metadata": {},
   "source": [
    "* setting up dimensionality of the problem:"
   ]
  },
  {
   "cell_type": "code",
   "execution_count": null,
   "metadata": {
    "ExecuteTime": {
     "end_time": "2019-10-09T14:53:39.150512Z",
     "start_time": "2019-10-09T14:53:39.145905Z"
    }
   },
   "outputs": [],
   "source": [
    "n_dims = 2"
   ]
  },
  {
   "cell_type": "markdown",
   "metadata": {},
   "source": [
    "* **Task 1**: implement [laplace operator](https://en.wikipedia.org/wiki/Laplace_operator)"
   ]
  },
  {
   "cell_type": "code",
   "execution_count": null,
   "metadata": {
    "ExecuteTime": {
     "end_time": "2019-10-09T14:53:39.480611Z",
     "start_time": "2019-10-09T14:53:39.477610Z"
    }
   },
   "outputs": [],
   "source": [
    "laplace = lambda u, x, y: ..."
   ]
  },
  {
   "cell_type": "markdown",
   "metadata": {},
   "source": [
    "* configuring the equation (by setting the differential form)"
   ]
  },
  {
   "cell_type": "code",
   "execution_count": null,
   "metadata": {
    "ExecuteTime": {
     "end_time": "2019-10-09T14:53:39.835563Z",
     "start_time": "2019-10-09T14:53:39.830515Z"
    }
   },
   "outputs": [],
   "source": [
    "form = lambda u, x, y: laplace(u,x,y)-5*sin(np.pi*(x+y))"
   ]
  },
  {
   "cell_type": "markdown",
   "metadata": {},
   "source": [
    "* preparing initial/boundary conditions:"
   ]
  },
  {
   "cell_type": "code",
   "execution_count": null,
   "metadata": {
    "ExecuteTime": {
     "end_time": "2019-10-09T14:53:40.303602Z",
     "start_time": "2019-10-09T14:53:40.294865Z"
    }
   },
   "outputs": [],
   "source": [
    "boundary_condition = 1"
   ]
  },
  {
   "cell_type": "markdown",
   "metadata": {},
   "source": [
    "* **Task 2**: Implement `Sampler` concentrating on the domain-center"
   ]
  },
  {
   "cell_type": "code",
   "execution_count": null,
   "metadata": {
    "ExecuteTime": {
     "end_time": "2019-10-09T14:53:41.428847Z",
     "start_time": "2019-10-09T14:53:41.423916Z"
    }
   },
   "outputs": [],
   "source": [
    "s = NumpySampler('uniform', dim=2)"
   ]
  },
  {
   "cell_type": "code",
   "execution_count": null,
   "metadata": {
    "ExecuteTime": {
     "end_time": "2019-10-09T14:53:43.854281Z",
     "start_time": "2019-10-09T14:53:43.590227Z"
    }
   },
   "outputs": [],
   "source": [
    "plt.imshow(np.histogram2d(*s.sample(1000).T)[0])\n",
    "plt.colorbar()"
   ]
  },
  {
   "cell_type": "code",
   "execution_count": null,
   "metadata": {
    "ExecuteTime": {
     "end_time": "2019-10-09T14:53:45.009011Z",
     "start_time": "2019-10-09T14:53:44.995643Z"
    }
   },
   "outputs": [],
   "source": [
    "s = s | NumpySampler(...)"
   ]
  },
  {
   "cell_type": "code",
   "execution_count": null,
   "metadata": {
    "ExecuteTime": {
     "end_time": "2019-10-09T14:53:45.887356Z",
     "start_time": "2019-10-09T14:53:45.579598Z"
    }
   },
   "outputs": [],
   "source": [
    "plt.imshow(np.histogram2d(*s.sample(1000).T)[0])\n",
    "plt.colorbar()"
   ]
  },
  {
   "cell_type": "markdown",
   "metadata": {},
   "source": [
    "assemble `config`-dicts for the model"
   ]
  },
  {
   "cell_type": "code",
   "execution_count": null,
   "metadata": {
    "ExecuteTime": {
     "end_time": "2019-10-09T14:53:46.679583Z",
     "start_time": "2019-10-09T14:53:46.670460Z"
    }
   },
   "outputs": [],
   "source": [
    "pde = {'n_dims': n_dims,\n",
    "       'form': form,\n",
    "       'boundary_condition': boundary_condition}\n",
    "\n",
    "config = {'pde': pde}"
   ]
  },
  {
   "cell_type": "markdown",
   "metadata": {},
   "source": [
    "initialize and train the model-instance"
   ]
  },
  {
   "cell_type": "code",
   "execution_count": null,
   "metadata": {
    "ExecuteTime": {
     "end_time": "2019-10-09T14:53:56.225547Z",
     "start_time": "2019-10-09T14:53:48.622949Z"
    }
   },
   "outputs": [],
   "source": [
    "model = Solver(config)\n",
    "model.fit(batch_size=150, sampler=s, n_iters=700, bar='notebook')"
   ]
  },
  {
   "cell_type": "markdown",
   "metadata": {},
   "source": [
    "check out the loss"
   ]
  },
  {
   "cell_type": "code",
   "execution_count": null,
   "metadata": {
    "ExecuteTime": {
     "end_time": "2019-10-09T14:53:57.442412Z",
     "start_time": "2019-10-09T14:53:57.151646Z"
    },
    "scrolled": true
   },
   "outputs": [],
   "source": [
    "plot_loss(model.loss[:], color='cornflowerblue')"
   ]
  },
  {
   "cell_type": "code",
   "execution_count": null,
   "metadata": {
    "ExecuteTime": {
     "end_time": "2019-10-09T14:53:58.408289Z",
     "start_time": "2019-10-09T14:53:58.031065Z"
    }
   },
   "outputs": [],
   "source": [
    "plot_2d(model, 'contourf')"
   ]
  },
  {
   "cell_type": "markdown",
   "metadata": {},
   "source": [
    "## Getting closer to the inverse problem"
   ]
  },
  {
   "cell_type": "markdown",
   "metadata": {},
   "source": [
    "Clearly, `PyDEns` is capable of solving PDEs from a wide family. That being said, the key-novelty (and usefulness for oil&gas) of `PyDEns` lies in its ability to perform well in more complex scenarios: (i) solving *parametric families of PDEs* and (ii) *PDEs with trainable coefficients*. "
   ]
  },
  {
   "cell_type": "markdown",
   "metadata": {},
   "source": [
    "### Solving parametric family of PDEs"
   ]
  },
  {
   "cell_type": "markdown",
   "metadata": {},
   "source": [
    "In the previous examples we've used `PyDEns` to solve **one PDE-problem** in **one training-cycle lasting ~1s**. In the upcoming example we'll be using `PyDEns` to solve **parametric family of PDEs** in **one training-cycle lasting ~3s**.\n",
    "\n",
    "Let us solve simple *parametric family of equations*:"
   ]
  },
  {
   "cell_type": "markdown",
   "metadata": {},
   "source": [
    "$$\n",
    "\\frac{d f}{d t}= \\epsilon \\pi \\cos[\\epsilon \\pi t]; \\quad t \\in [0, 1],\\ f(0)=1;\n",
    "$$\n",
    "$$\n",
    "\\epsilon - \\textrm{parameter}, \\quad \\epsilon \\in [1, 5].\n",
    "$$\n",
    "\n",
    "True solution:\n",
    "$$\n",
    "\\sin[\\epsilon \\pi t] + 1.\n",
    "$$"
   ]
  },
  {
   "cell_type": "markdown",
   "metadata": {},
   "source": [
    "* **Task 3**: wrap up `e`-var into `P`-token to introduce a parameter into the equation\n",
    "\n",
    "hint: *use the first example* and `P(e)`-structure."
   ]
  },
  {
   "cell_type": "code",
   "execution_count": null,
   "metadata": {
    "ExecuteTime": {
     "end_time": "2019-10-09T14:54:00.678411Z",
     "start_time": "2019-10-09T14:54:00.671165Z"
    }
   },
   "outputs": [],
   "source": [
    "pde = {'n_dims': 1,\n",
    "       'form': lambda u, t, e: D(u, t) - ...,\n",
    "       'initial_condition': 1}"
   ]
  },
  {
   "cell_type": "markdown",
   "metadata": {},
   "source": [
    "prepare sampler-instance"
   ]
  },
  {
   "cell_type": "code",
   "execution_count": null,
   "metadata": {
    "ExecuteTime": {
     "end_time": "2019-10-09T14:54:01.227493Z",
     "start_time": "2019-10-09T14:54:01.219546Z"
    }
   },
   "outputs": [],
   "source": [
    "s = NumpySampler('uniform')"
   ]
  },
  {
   "cell_type": "markdown",
   "metadata": {},
   "source": [
    "check out this sampler: it samples points from $\\mathcal{R}$:"
   ]
  },
  {
   "cell_type": "code",
   "execution_count": null,
   "metadata": {
    "ExecuteTime": {
     "end_time": "2019-10-09T14:54:01.580563Z",
     "start_time": "2019-10-09T14:54:01.569479Z"
    }
   },
   "outputs": [],
   "source": [
    "s.sample(4)"
   ]
  },
  {
   "cell_type": "markdown",
   "metadata": {},
   "source": [
    "yet, we have to learn how to solve equation with different values of parameters. As the result, we have to add *another component* to our sampler:"
   ]
  },
  {
   "cell_type": "code",
   "execution_count": null,
   "metadata": {
    "ExecuteTime": {
     "end_time": "2019-10-09T14:54:02.036147Z",
     "start_time": "2019-10-09T14:54:02.030886Z"
    }
   },
   "outputs": [],
   "source": [
    "s = s & NumpySampler('uniform', low=0.5, high=5.5)"
   ]
  },
  {
   "cell_type": "markdown",
   "metadata": {},
   "source": [
    "assemble config-dicts"
   ]
  },
  {
   "cell_type": "code",
   "execution_count": null,
   "metadata": {
    "ExecuteTime": {
     "end_time": "2019-10-09T14:54:02.622688Z",
     "start_time": "2019-10-09T14:54:02.613614Z"
    }
   },
   "outputs": [],
   "source": [
    "config = {'pde': pde,\n",
    "          'decay': {'name': 'invtime', 'learning_rate':0.01, 'decay_steps': 100, 'decay_rate': 0.05},\n",
    "          'track': {'dt': lambda u, t, e: D(u, t)}}"
   ]
  },
  {
   "cell_type": "markdown",
   "metadata": {},
   "source": [
    "run the training-cycle:"
   ]
  },
  {
   "cell_type": "code",
   "execution_count": null,
   "metadata": {
    "ExecuteTime": {
     "end_time": "2019-10-09T14:54:03.326250Z",
     "start_time": "2019-10-09T14:54:03.246557Z"
    }
   },
   "outputs": [],
   "source": [
    "model = Solver(config)\n",
    "model.fit(batch_size=4500, sampler=s, n_iters=1500, bar='notebook')"
   ]
  },
  {
   "cell_type": "code",
   "execution_count": null,
   "metadata": {
    "ExecuteTime": {
     "end_time": "2019-10-09T14:54:03.960107Z",
     "start_time": "2019-10-09T14:54:03.765049Z"
    }
   },
   "outputs": [],
   "source": [
    "plot_loss(model.loss, color='cornflowerblue')"
   ]
  },
  {
   "cell_type": "code",
   "execution_count": null,
   "metadata": {
    "ExecuteTime": {
     "end_time": "2019-10-09T14:50:20.945089Z",
     "start_time": "2019-10-09T14:50:11.199Z"
    }
   },
   "outputs": [],
   "source": [
    "def plot_pair_custom(e):\n",
    "    solution = lambda t: np.sin(e * np.pi * t) + 1\n",
    "    points = np.concatenate([np.linspace(0, 1, 200).reshape(-1, 1),\n",
    "                             e * np.ones((200, 1))], axis=1)\n",
    "    plt.scatter([0.5], [1.0], marker='o', alpha=0.4, s=70, label=r'$u(0.5)=1$')\n",
    "    plot_pair_1d(model, solution, points=points, plot_coord=0, confidence=0.15,\n",
    "                 title=r'Solution against approximation: $\\epsilon=$' + str(np.round(e, 2)))"
   ]
  },
  {
   "cell_type": "code",
   "execution_count": null,
   "metadata": {
    "ExecuteTime": {
     "end_time": "2019-10-09T14:50:20.947758Z",
     "start_time": "2019-10-09T14:50:11.207Z"
    }
   },
   "outputs": [],
   "source": [
    "_ = interact(plot_pair_custom, e=(1, 5, 0.01))"
   ]
  },
  {
   "cell_type": "markdown",
   "metadata": {},
   "source": [
    "* **Task 4**: determine value of $\\epsilon$ when $u(0.5)=1$"
   ]
  },
  {
   "cell_type": "markdown",
   "metadata": {},
   "source": [
    "All in all, solving parametric family of PDEs allowed us to determine the value of parameter, that yields the solution satisfying additional constraint.\n",
    "\n",
    "In the next example we'll take a more direct route to obtain the same result: we'll *train the phase-parameter of an equation* to satisfy the same contraint."
   ]
  },
  {
   "cell_type": "markdown",
   "metadata": {},
   "source": [
    "### Solving PDEs with trainable coefficients"
   ]
  },
  {
   "cell_type": "code",
   "execution_count": null,
   "metadata": {
    "ExecuteTime": {
     "end_time": "2019-10-09T14:54:57.725385Z",
     "start_time": "2019-10-09T14:54:57.692892Z"
    }
   },
   "outputs": [],
   "source": [
    "pde = {'n_dims': 1,\n",
    "       'form': lambda u, t: D(u,t)-V(3.0, 'phase')*np.pi*cos(V(3.0, 'phase')*np.pi*t),\n",
    "       'initial_condition': 1}\n",
    "\n",
    "config = {'pde': pde,\n",
    "          'decay': {'name': 'invtime', 'learning_rate':0.01, 'decay_steps': 100, 'decay_rate': 0.05},\n",
    "          'track': {'u05': lambda u, t: u - 1},\n",
    "          'train_steps': {# adjusting u_hat to be better solution aprox with fixed V\n",
    "                          'uhat_equation': {'scope': '-addendums'},\n",
    "  \n",
    "                          # adjusting u_hat to better satisfy additional constraint\n",
    "                          'uhat_constraint': {'loss': {'name': 'mse', 'predictions': 'u05'}},\n",
    "                                                    \n",
    "                          # adjusting V for current u_hat to be better solution approx\n",
    "                          'v_equation': {'scope': 'addendums'}}}\n",
    "\n",
    "s1 = NumpySampler('uniform')\n",
    "s2 = ConstantSampler(0.5)"
   ]
  },
  {
   "cell_type": "code",
   "execution_count": null,
   "metadata": {
    "ExecuteTime": {
     "end_time": "2019-10-09T14:55:00.392025Z",
     "start_time": "2019-10-09T14:54:58.246416Z"
    }
   },
   "outputs": [],
   "source": [
    "model = Solver(config)"
   ]
  },
  {
   "cell_type": "code",
   "execution_count": null,
   "metadata": {
    "ExecuteTime": {
     "end_time": "2019-10-09T14:55:08.400571Z",
     "start_time": "2019-10-09T14:55:08.395316Z"
    }
   },
   "outputs": [],
   "source": [
    "N_ITERS = 20"
   ]
  },
  {
   "cell_type": "code",
   "execution_count": null,
   "metadata": {
    "ExecuteTime": {
     "end_time": "2019-10-09T14:55:17.078179Z",
     "start_time": "2019-10-09T14:55:09.127764Z"
    }
   },
   "outputs": [],
   "source": [
    "model.fit(batch_size=150, sampler=s1, n_iters=2000, train_mode='uhat_equation')\n",
    "\n",
    "for i in range(N_ITERS):\n",
    "    model.fit(batch_size=150, sampler=s1, n_iters=200, train_mode='uhat_equation')\n",
    "    model.fit(batch_size=50, sampler=s2, n_iters=200, train_mode='uhat_constraint')\n",
    "    model.fit(batch_size=150, sampler=s1, n_iters=200, train_mode='v_equation')\n",
    "\n",
    "model.fit(batch_size=150, sampler=s1, n_iters=200, train_mode='uhat_equation')"
   ]
  },
  {
   "cell_type": "code",
   "execution_count": null,
   "metadata": {
    "ExecuteTime": {
     "end_time": "2019-10-09T14:55:28.450630Z",
     "start_time": "2019-10-09T14:55:28.202421Z"
    }
   },
   "outputs": [],
   "source": [
    "plot_pair_1d(model, lambda t, e=3.99: np.sin(e * np.pi * t) + 1, confidence=0.2, alpha=0.2)"
   ]
  },
  {
   "cell_type": "code",
   "execution_count": null,
   "metadata": {
    "ExecuteTime": {
     "end_time": "2019-10-09T14:55:29.534546Z",
     "start_time": "2019-10-09T14:55:29.509668Z"
    }
   },
   "outputs": [],
   "source": [
    "model.solve(fetches='phase')"
   ]
  },
  {
   "cell_type": "markdown",
   "metadata": {},
   "source": [
    "## Solving inverse problems"
   ]
  },
  {
   "cell_type": "markdown",
   "metadata": {},
   "source": [
    "Moving closer to oil&gaz: solving heat equation in $\\mathcal{R} \\times \\mathcal{R}$"
   ]
  },
  {
   "cell_type": "markdown",
   "metadata": {},
   "source": [
    "$$\\frac{\\partial f}{\\partial t} - \\frac{\\partial^2 f}{\\partial x^2} = 5x(1 - x);\\quad (x, t) \\in [0, 1] \\times [0, 1],\\ f(x, 0) = 4x(1 - x).\n",
    "$$"
   ]
  },
  {
   "cell_type": "markdown",
   "metadata": {},
   "source": [
    "* simple heat equation in $\\mathcal{R}$"
   ]
  },
  {
   "cell_type": "code",
   "execution_count": null,
   "metadata": {
    "ExecuteTime": {
     "end_time": "2019-10-09T14:55:32.197712Z",
     "start_time": "2019-10-09T14:55:32.181753Z"
    }
   },
   "outputs": [],
   "source": [
    "# describing pde-problem in pde-dict\n",
    "pde = {'n_dims': 2,\n",
    "       'form': lambda u, x, t: D(u, t) - D(D(u, x), x) - 5 * x * (1 - x),\n",
    "       'initial_condition': lambda x: x * (1 - x) * 4}\n",
    "\n",
    "# put it together in model-config\n",
    "config = {'pde': pde,\n",
    "          'decay': {'name': 'invtime', 'learning_rate':0.01, 'decay_steps': 100, 'decay_rate': 0.05}}\n",
    "\n",
    "# uniform sampling scheme\n",
    "s = NumpySampler('u', dim=2)"
   ]
  },
  {
   "cell_type": "code",
   "execution_count": null,
   "metadata": {
    "ExecuteTime": {
     "end_time": "2019-10-09T14:55:41.421558Z",
     "start_time": "2019-10-09T14:55:32.903130Z"
    }
   },
   "outputs": [],
   "source": [
    "# train the network on batches of 100 points\n",
    "model = Solver(config)\n",
    "model.fit(batch_size=500, sampler=s, n_iters=1200, bar='notebook')"
   ]
  },
  {
   "cell_type": "code",
   "execution_count": null,
   "metadata": {
    "ExecuteTime": {
     "end_time": "2019-10-09T14:55:41.691290Z",
     "start_time": "2019-10-09T14:55:41.520366Z"
    }
   },
   "outputs": [],
   "source": [
    "plot_loss(model.loss, color='cornflowerblue')"
   ]
  },
  {
   "cell_type": "code",
   "execution_count": null,
   "metadata": {
    "ExecuteTime": {
     "end_time": "2019-10-09T14:55:44.814059Z",
     "start_time": "2019-10-09T14:55:43.855870Z"
    }
   },
   "outputs": [],
   "source": [
    "plot_sections_2d(model, timestamps=(0, 0.01, 0.1, 0.3, 0.4, 0.7), ylim=(0.0, 1.0))"
   ]
  },
  {
   "cell_type": "markdown",
   "metadata": {},
   "source": [
    "What if we additionally know that \n",
    "\n",
    "$$\n",
    "u(x=0.5, t) = \\frac{1}{2}\\exp^{-2 t} + \\frac{1}{2}.\n",
    "$$\n",
    "\n",
    "Think: determine **volume of exracted oil** given **pressure dynamics in the well-center**"
   ]
  },
  {
   "cell_type": "markdown",
   "metadata": {},
   "source": [
    "How does this constraint satisfy for the solution to our equation?"
   ]
  },
  {
   "cell_type": "code",
   "execution_count": null,
   "metadata": {
    "ExecuteTime": {
     "end_time": "2019-10-09T14:56:54.439300Z",
     "start_time": "2019-10-09T14:56:54.206585Z"
    }
   },
   "outputs": [],
   "source": [
    "grid = np.concatenate([0.5 * np.ones((200, 1)),\n",
    "                       np.linspace(0, 2, 200).reshape(-1, 1)], axis=1)\n",
    "plot_pair_1d(model, lambda x: 0.5 * np.exp(-2 * x) + 0.5, points=grid, plot_coord=1)"
   ]
  },
  {
   "cell_type": "markdown",
   "metadata": {},
   "source": [
    "Not good. Let's fix it!"
   ]
  },
  {
   "cell_type": "markdown",
   "metadata": {},
   "source": [
    "* not-so-simple heat equation in $\\mathcal{R}$ with **unknown** multiplier in rhs:\n",
    "$$\\frac{\\partial u}{\\partial t} - \\frac{\\partial^2 u}{\\partial x^2} = x(1 - x) * Q(t);\\quad (x, t) \\in [0, 1] \\times [0, 1],\\ u(x, 0) = x(1 - x).\n",
    "$$\n",
    "and additional constraint on solution-dynamics in $x=0.5$:\n",
    "$$\n",
    "u(x=0.5, t) = \\frac{1}{2}\\exp^{-2 t} + \\frac{1}{2}.\n",
    "$$"
   ]
  },
  {
   "cell_type": "code",
   "execution_count": null,
   "metadata": {
    "ExecuteTime": {
     "end_time": "2019-10-09T14:57:09.371798Z",
     "start_time": "2019-10-09T14:57:09.342564Z"
    }
   },
   "outputs": [],
   "source": [
    "# trainable rhs\n",
    "block = {'layout': 'fa Rfa fa. fa f',\n",
    "         'units': [15]*4 + [1],\n",
    "         'activation': tf.nn.tanh}\n",
    "\n",
    "# describing pde-problem in pde-dict\n",
    "pde = {'n_dims': 2,\n",
    "       'form': lambda u, x, t: D(u, t) - D(D(u, x), x) - 5 * x * (1 - x) * (1 + C(t, 'rhs', **block)),\n",
    "       'initial_condition': lambda x: x * (1 - x) * 4}\n",
    "\n",
    "# put it together in model-config\n",
    "law_at_05 = lambda t: 0.5 * exp(-2 * t) + 0.5\n",
    "config = {'pde': pde,\n",
    "          'decay': {'name': 'invtime', 'learning_rate':0.01, 'decay_steps': 100, 'decay_rate': 0.05},\n",
    "          'track': {'u05': lambda u, x, t: u - law_at_05(t)},\n",
    "          'train_steps': {# adjusting u_hat to be better solution aprox with fixed rhs\n",
    "                          'uhat_equation': {'scope': '-addendums'},\n",
    "  \n",
    "                          # adjusting u_hat to better satisfy additional constraint\n",
    "                          'uhat_constraint': {'loss': {'name': 'mse', 'predictions': 'u05'}},\n",
    "                                                    \n",
    "                          # adjusting conv-rhs for fixed u_hat to be better solution approx\n",
    "                          'conv_equation': {'scope': 'addendums'}}}\n",
    "\n",
    "# sampling schemes\n",
    "s1 = NumpySampler('u') & (NumpySampler('u') * 2.0)\n",
    "s2 = ConstantSampler(0.5) & (NumpySampler('u') * 2.0)"
   ]
  },
  {
   "cell_type": "code",
   "execution_count": null,
   "metadata": {
    "ExecuteTime": {
     "end_time": "2019-10-09T14:57:15.583433Z",
     "start_time": "2019-10-09T14:57:10.488287Z"
    }
   },
   "outputs": [],
   "source": [
    "model = Solver(config)"
   ]
  },
  {
   "cell_type": "code",
   "execution_count": null,
   "metadata": {
    "ExecuteTime": {
     "end_time": "2019-10-09T14:57:15.747178Z",
     "start_time": "2019-10-09T14:57:15.744901Z"
    }
   },
   "outputs": [],
   "source": [
    "N_ITERS = 5"
   ]
  },
  {
   "cell_type": "code",
   "execution_count": null,
   "metadata": {
    "ExecuteTime": {
     "end_time": "2019-10-09T14:57:26.716730Z",
     "start_time": "2019-10-09T14:57:15.975587Z"
    }
   },
   "outputs": [],
   "source": [
    "model.fit(batch_size=700, sampler=s1, n_iters=2000, train_mode='uhat_equation')\n",
    "\n",
    "for i in range(N_ITERS):\n",
    "    model.fit(batch_size=700, sampler=s1, n_iters=100, train_mode='uhat_equation')\n",
    "    model.fit(batch_size=100, sampler=s2, n_iters=100, train_mode='uhat_constraint')\n",
    "    model.fit(batch_size=700, sampler=s1, n_iters=100, train_mode='conv_equation')\n",
    "\n",
    "model.fit(batch_size=100, sampler=s2, n_iters=10, train_mode='uhat_constraint')"
   ]
  },
  {
   "cell_type": "code",
   "execution_count": null,
   "metadata": {
    "ExecuteTime": {
     "end_time": "2019-10-09T14:57:28.014942Z",
     "start_time": "2019-10-09T14:57:26.949355Z"
    }
   },
   "outputs": [],
   "source": [
    "plot_sections_2d(model, timestamps=(0, 0.05, 0.1, 0.4, 0.6, 0.8), ylim=(0.0, 1.0))"
   ]
  },
  {
   "cell_type": "code",
   "execution_count": null,
   "metadata": {
    "ExecuteTime": {
     "end_time": "2019-10-09T14:57:31.154790Z",
     "start_time": "2019-10-09T14:57:30.852322Z"
    }
   },
   "outputs": [],
   "source": [
    "grid = np.concatenate([0.5 * np.ones((200, 1)),\n",
    "                       np.linspace(0, 2, 200).reshape(-1, 1)], axis=1)\n",
    "plot_pair_1d(model, lambda x: 0.5 * np.exp(-2 * x) + 0.5, points=grid, plot_coord=1,\n",
    "             title='Constraint against approximation: well center')"
   ]
  },
  {
   "cell_type": "markdown",
   "metadata": {},
   "source": [
    "That's much better!"
   ]
  },
  {
   "cell_type": "code",
   "execution_count": null,
   "metadata": {
    "ExecuteTime": {
     "end_time": "2019-10-09T14:57:37.053609Z",
     "start_time": "2019-10-09T14:57:36.790207Z"
    },
    "scrolled": true
   },
   "outputs": [],
   "source": [
    "pts = np.linspace(0, 2, 200).reshape(-1, 1)\n",
    "pts = np.concatenate([np.random.normal(size=(200, 1)), pts], axis=1)\n",
    "\n",
    "approxs = model.solve(pts, fetches='rhs')\n",
    "plt.plot(pts[:, 1], approxs, 'r', label='Adjustable coefficient')\n",
    "\n",
    "plt.xlabel(r'$t$', fontdict={'fontsize': 14})\n",
    "plt.legend()\n",
    "plt.grid(True)\n",
    "plt.show()"
   ]
  }
 ],
 "metadata": {
  "kernelspec": {
   "display_name": "Python 3",
   "language": "python",
   "name": "python3"
  },
  "language_info": {
   "codemirror_mode": {
    "name": "ipython",
    "version": 3
   },
   "file_extension": ".py",
   "mimetype": "text/x-python",
   "name": "python",
   "nbconvert_exporter": "python",
   "pygments_lexer": "ipython3",
   "version": "3.7.3"
  },
  "varInspector": {
   "cols": {
    "lenName": 16,
    "lenType": 16,
    "lenVar": 40
   },
   "kernels_config": {
    "python": {
     "delete_cmd_postfix": "",
     "delete_cmd_prefix": "del ",
     "library": "var_list.py",
     "varRefreshCmd": "print(var_dic_list())"
    },
    "r": {
     "delete_cmd_postfix": ") ",
     "delete_cmd_prefix": "rm(",
     "library": "var_list.r",
     "varRefreshCmd": "cat(var_dic_list()) "
    }
   },
   "types_to_exclude": [
    "module",
    "function",
    "builtin_function_or_method",
    "instance",
    "_Feature"
   ],
   "window_display": false
  }
 },
 "nbformat": 4,
 "nbformat_minor": 2
}
